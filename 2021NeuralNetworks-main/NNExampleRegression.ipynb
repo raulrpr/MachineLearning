{
 "cells": [
  {
   "cell_type": "markdown",
   "metadata": {},
   "source": [
    "# Regresión\n",
    "En una regresión lo que queremos es obtener uno o más valores concretos, no clases. Es como si quisieramos un resultado de una operación matemática. Vemos un ejemplo de una red de regresión que queremos que aprenda a sumar 3 números. \n",
    "\n",
    "Primero generamos número aleatorios:\n"
   ]
  },
  {
   "cell_type": "code",
   "execution_count": 1,
   "metadata": {},
   "outputs": [],
   "source": [
    "import numpy as np\n",
    "#Generamos training set con 1000 datos. \n",
    "X1 = np.random.uniform(size = 100000) * 100\n",
    "X2 = np.random.uniform(size = 100000) * 100\n",
    "X3 = np.random.uniform(size = 100000) * 100\n",
    "X = np.transpose([X1, X2, X3])"
   ]
  },
  {
   "cell_type": "markdown",
   "metadata": {},
   "source": [
    "Este seran nuestro valores de entrada o *inputs*. Los *outputs* de nuestro problema serán la suma de los números,"
   ]
  },
  {
   "cell_type": "code",
   "execution_count": 2,
   "metadata": {},
   "outputs": [],
   "source": [
    "Y = X1 + X2 + X3  "
   ]
  },
  {
   "cell_type": "markdown",
   "metadata": {},
   "source": [
    "Ahora que ya tenemos un set de ejemplo. Volvemos a separar los datos en set de entrenamiento y set de validación"
   ]
  },
  {
   "cell_type": "code",
   "execution_count": 3,
   "metadata": {},
   "outputs": [
    {
     "data": {
      "text/plain": [
       "((75000,), (25000,))"
      ]
     },
     "execution_count": 3,
     "metadata": {},
     "output_type": "execute_result"
    }
   ],
   "source": [
    "from sklearn.model_selection import train_test_split\n",
    "X_train, X_test, y_train, y_test = train_test_split(X, Y) \n",
    "np.shape(y_train),np.shape(y_test) # comprobamos tamaño"
   ]
  },
  {
   "cell_type": "markdown",
   "metadata": {},
   "source": [
    "Usamos el objeto `MLPRegressor` para definir las características de la red. La **batch_size** no la hemos tocado antes, por defecto toman un valor que dependerá del método de optimización escogido, pero la podríamos cambiar si nos interesa. "
   ]
  },
  {
   "cell_type": "code",
   "execution_count": 4,
   "metadata": {},
   "outputs": [],
   "source": [
    "from sklearn.neural_network import MLPRegressor\n",
    "# Escojo 3 capas de 10 neuronas\n",
    "#mlp = MLPRegressor(hidden_layer_sizes=(100),max_iter=500,verbose=True) \n",
    "mlp = MLPRegressor(hidden_layer_sizes=(1000,1000,1000),max_iter=500,verbose=False) # aumento el max_iter a 5000 para que aprenda mas "
   ]
  },
  {
   "cell_type": "markdown",
   "metadata": {},
   "source": [
    "Y entrenamos"
   ]
  },
  {
   "cell_type": "code",
   "execution_count": null,
   "metadata": {},
   "outputs": [],
   "source": [
    "mlp.fit(X_train,y_train) # usa modelo red neuronal que hemos definido antes y(x,w)\n",
    "# mlp.loss_curve en Clasificación te guarda el valor de la función coste a cada iteración"
   ]
  },
  {
   "cell_type": "code",
   "execution_count": null,
   "metadata": {},
   "outputs": [],
   "source": [
    "import matplotlib.pyplot as pl\n",
    "pl.plot(mlp.loss_curve_)  # mlp.loss_curve nos da una idea de como converge el training set\n",
    "pl.xlabel('iteration')\n",
    "pl.ylabel('loss function')"
   ]
  },
  {
   "cell_type": "markdown",
   "metadata": {},
   "source": [
    "Hacemos las predicciones con el set de validación y hacemos algún cálculo para ver si se parecen con los valores reales. Aquí calculo el coeficiente de correlación (que debería ser 1) y el error relativo. "
   ]
  },
  {
   "cell_type": "code",
   "execution_count": null,
   "metadata": {},
   "outputs": [],
   "source": [
    "predictions = mlp.predict(X_test) # estimamos resultado con el TEST\n",
    "print('coeficiente correlación', np.corrcoef(predictions,y_test)[0][1] ) # calculamos correlación con el valor esperado\n",
    "print('error relativo', np.mean(abs(predictions-y_test)/y_test)*100)  # calculamos correlación con el valor esperado\n",
    "\n",
    "import matplotlib.pyplot as pl\n",
    "pl.plot(predictions,y_test,'.')"
   ]
  },
  {
   "cell_type": "markdown",
   "metadata": {},
   "source": [
    "Le pido a la red que sume 10 + 2 + 6"
   ]
  },
  {
   "cell_type": "code",
   "execution_count": null,
   "metadata": {},
   "outputs": [],
   "source": [
    "A=np.array([10, 2, 6]).reshape(1,-1) # sklearn necesita que se lo de dimension(1,n)\n",
    "print('la suma predicha es', np.round(mlp.predict(A))) # redondamos\n",
    "print('la suma real es',np.round(np.sum(A)))"
   ]
  },
  {
   "cell_type": "markdown",
   "metadata": {},
   "source": [
    "Le pido a la red que sume 100 + 100 + 100"
   ]
  },
  {
   "cell_type": "code",
   "execution_count": null,
   "metadata": {},
   "outputs": [],
   "source": [
    "# si miramos valores muy lejos del rango\n",
    "A=np.array([100,100,100]).reshape(1,-1) \n",
    "np.shape(A)\n",
    "print('la suma predicha es', np.round(mlp.predict(A))) # redondamos\n",
    "print('la suma real es',np.round(np.sum(A)))"
   ]
  },
  {
   "cell_type": "markdown",
   "metadata": {},
   "source": [
    "Y ahora Le pido a la red que sume 1000 + 1000 + 1000"
   ]
  },
  {
   "cell_type": "code",
   "execution_count": null,
   "metadata": {},
   "outputs": [],
   "source": [
    "# si miramos valores muy lejos del rango\n",
    "A=np.array([2000,1050,4000]).reshape(1,-1) \n",
    "np.shape(A)\n",
    "print('la suma predicha es', np.round(mlp.predict(A))) # redondamos\n",
    "print('la suma real es',np.round(np.sum(A)))"
   ]
  },
  {
   "cell_type": "code",
   "execution_count": null,
   "metadata": {},
   "outputs": [],
   "source": [
    "# si miramos valores muy lejos del rango\n",
    "A=np.array([20000,10500,40000]).reshape(1,-1) \n",
    "np.shape(A)\n",
    "print('la suma predicha es', np.round(mlp.predict(A))) # redondamos\n",
    "print('la suma real es',np.round(np.sum(A)))"
   ]
  },
  {
   "cell_type": "markdown",
   "metadata": {},
   "source": [
    "**NO ha aprendido a sumar!** Ha ajustado muy bien los datos pero a la que me alejo del rango (0,100) se equivoca"
   ]
  },
  {
   "cell_type": "markdown",
   "metadata": {},
   "source": [
    "## Ejercicios: \n",
    "\n",
    "1. Haz pruebas con esta red para ver si mejoras los resultados. Para mejorar un ajuste puedes probar:\n",
    "\n",
    "* cambiar el número de neuronas o capas \n",
    "\n",
    "* Parámetros del MPLRegressor como función de activación, optimizer, loss_function, batch_size,...\n",
    "\n",
    "* Añadir más datos, usamos cuantos más datos mejor, hasta que veamos que añadir más datos no mejora la solución."
   ]
  },
  {
   "cell_type": "markdown",
   "metadata": {},
   "source": [
    "2. Entrena una red para que aprenda a multiplicar 4 números."
   ]
  },
  {
   "cell_type": "code",
   "execution_count": null,
   "metadata": {},
   "outputs": [],
   "source": []
  }
 ],
 "metadata": {
  "kernelspec": {
   "display_name": "Python 3",
   "language": "python",
   "name": "python3"
  },
  "language_info": {
   "codemirror_mode": {
    "name": "ipython",
    "version": 3
   },
   "file_extension": ".py",
   "mimetype": "text/x-python",
   "name": "python",
   "nbconvert_exporter": "python",
   "pygments_lexer": "ipython3",
   "version": "3.8.8"
  }
 },
 "nbformat": 4,
 "nbformat_minor": 2
}
